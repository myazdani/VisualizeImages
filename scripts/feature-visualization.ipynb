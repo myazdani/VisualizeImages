{
 "cells": [
  {
   "cell_type": "code",
   "execution_count": 1,
   "metadata": {
    "collapsed": false
   },
   "outputs": [
    {
     "name": "stderr",
     "output_type": "stream",
     "text": [
      "Vendor:  Continuum Analytics, Inc.\n",
      "Package: mkl\n",
      "Message: trial mode expires in 30 days\n",
      "Vendor:  Continuum Analytics, Inc.\n",
      "Package: mkl\n",
      "Message: trial mode expires in 30 days\n"
     ]
    }
   ],
   "source": [
    "from util.ImageScatterPlot import ImageScatterPlot\n",
    "import pandas as pd\n",
    "import numpy as np\n",
    "from sklearn.decomposition import PCA\n",
    "from sklearn.manifold import TSNE\n",
    "import os"
   ]
  },
  {
   "cell_type": "code",
   "execution_count": 10,
   "metadata": {
    "collapsed": true
   },
   "outputs": [],
   "source": [
    "df = pd.read_csv(\"../features/twitter-features/SD-tweets-BVLCref_fc8.csv\")"
   ]
  },
  {
   "cell_type": "code",
   "execution_count": 11,
   "metadata": {
    "collapsed": false
   },
   "outputs": [
    {
     "data": {
      "text/html": [
       "<div style=\"max-height:1000px;max-width:1500px;overflow:auto;\">\n",
       "<table border=\"1\" class=\"dataframe\">\n",
       "  <thead>\n",
       "    <tr style=\"text-align: right;\">\n",
       "      <th></th>\n",
       "      <th>Unnamed: 0</th>\n",
       "      <th>fc8.0</th>\n",
       "      <th>fc8.1</th>\n",
       "      <th>fc8.2</th>\n",
       "      <th>fc8.3</th>\n",
       "      <th>fc8.4</th>\n",
       "      <th>fc8.5</th>\n",
       "      <th>fc8.6</th>\n",
       "      <th>fc8.7</th>\n",
       "      <th>fc8.8</th>\n",
       "      <th>...</th>\n",
       "      <th>fc8.990</th>\n",
       "      <th>fc8.991</th>\n",
       "      <th>fc8.992</th>\n",
       "      <th>fc8.993</th>\n",
       "      <th>fc8.994</th>\n",
       "      <th>fc8.995</th>\n",
       "      <th>fc8.996</th>\n",
       "      <th>fc8.997</th>\n",
       "      <th>fc8.998</th>\n",
       "      <th>fc8.999</th>\n",
       "    </tr>\n",
       "  </thead>\n",
       "  <tbody>\n",
       "    <tr>\n",
       "      <th>0</th>\n",
       "      <td> ../data/tweeted-images/SD/BbKKhVuCQAASGnE.jpg</td>\n",
       "      <td>-2.481029</td>\n",
       "      <td>-0.331782</td>\n",
       "      <td>-0.840526</td>\n",
       "      <td>-2.200729</td>\n",
       "      <td>-1.495519</td>\n",
       "      <td>-2.618583</td>\n",
       "      <td>-1.650708</td>\n",
       "      <td>-0.661125</td>\n",
       "      <td>-2.349694</td>\n",
       "      <td>...</td>\n",
       "      <td>-0.096101</td>\n",
       "      <td>-2.980190</td>\n",
       "      <td>-2.004297</td>\n",
       "      <td>-3.724048</td>\n",
       "      <td>-3.697331</td>\n",
       "      <td>-2.732956</td>\n",
       "      <td>-3.661629</td>\n",
       "      <td>-1.822882</td>\n",
       "      <td> 0.905608</td>\n",
       "      <td> 2.227715</td>\n",
       "    </tr>\n",
       "    <tr>\n",
       "      <th>1</th>\n",
       "      <td> ../data/tweeted-images/SD/BSfQmO3CcAAmV_0.jpg</td>\n",
       "      <td>-2.816127</td>\n",
       "      <td> 0.089159</td>\n",
       "      <td>-1.291723</td>\n",
       "      <td>-2.539098</td>\n",
       "      <td>-2.011545</td>\n",
       "      <td>-1.346889</td>\n",
       "      <td>-1.064354</td>\n",
       "      <td>-1.168279</td>\n",
       "      <td>-2.229819</td>\n",
       "      <td>...</td>\n",
       "      <td> 2.600564</td>\n",
       "      <td>-0.104009</td>\n",
       "      <td> 1.090380</td>\n",
       "      <td>-2.369291</td>\n",
       "      <td>-1.064187</td>\n",
       "      <td> 1.201350</td>\n",
       "      <td>-1.293476</td>\n",
       "      <td>-1.699080</td>\n",
       "      <td> 1.642681</td>\n",
       "      <td>-3.249635</td>\n",
       "    </tr>\n",
       "    <tr>\n",
       "      <th>2</th>\n",
       "      <td> ../data/tweeted-images/SD/BJ7_izNCQAIMGsd.jpg</td>\n",
       "      <td>-3.013312</td>\n",
       "      <td>-2.309575</td>\n",
       "      <td> 0.769330</td>\n",
       "      <td>-3.064893</td>\n",
       "      <td>-0.770937</td>\n",
       "      <td>-1.827654</td>\n",
       "      <td>-2.348266</td>\n",
       "      <td>-2.178051</td>\n",
       "      <td>-3.129571</td>\n",
       "      <td>...</td>\n",
       "      <td>-5.411480</td>\n",
       "      <td>-4.289338</td>\n",
       "      <td>-5.004844</td>\n",
       "      <td>-5.351103</td>\n",
       "      <td>-3.757468</td>\n",
       "      <td>-5.302080</td>\n",
       "      <td>-4.358683</td>\n",
       "      <td>-7.791839</td>\n",
       "      <td>-1.467625</td>\n",
       "      <td> 5.378424</td>\n",
       "    </tr>\n",
       "    <tr>\n",
       "      <th>3</th>\n",
       "      <td> ../data/tweeted-images/SD/BO5mWulCAAEXqhT.jpg</td>\n",
       "      <td>-1.599354</td>\n",
       "      <td>-3.636029</td>\n",
       "      <td>-1.431531</td>\n",
       "      <td>-3.022692</td>\n",
       "      <td>-0.397914</td>\n",
       "      <td>-2.150873</td>\n",
       "      <td> 0.440032</td>\n",
       "      <td>-2.232677</td>\n",
       "      <td>-2.475002</td>\n",
       "      <td>...</td>\n",
       "      <td> 1.423519</td>\n",
       "      <td>-3.944803</td>\n",
       "      <td>-3.134477</td>\n",
       "      <td>-5.401067</td>\n",
       "      <td>-4.640818</td>\n",
       "      <td>-1.554172</td>\n",
       "      <td>-4.513334</td>\n",
       "      <td>-2.520462</td>\n",
       "      <td> 2.202012</td>\n",
       "      <td>-0.349102</td>\n",
       "    </tr>\n",
       "    <tr>\n",
       "      <th>4</th>\n",
       "      <td> ../data/tweeted-images/SD/BQtTA2ZCcAAnePE.jpg</td>\n",
       "      <td>-2.488538</td>\n",
       "      <td> 0.257817</td>\n",
       "      <td>-0.014473</td>\n",
       "      <td>-1.006937</td>\n",
       "      <td> 1.079174</td>\n",
       "      <td>-1.108479</td>\n",
       "      <td>-1.057016</td>\n",
       "      <td> 1.335127</td>\n",
       "      <td>-2.203496</td>\n",
       "      <td>...</td>\n",
       "      <td>-1.134227</td>\n",
       "      <td>-2.199091</td>\n",
       "      <td>-2.101580</td>\n",
       "      <td>-3.392382</td>\n",
       "      <td>-2.690915</td>\n",
       "      <td>-0.668856</td>\n",
       "      <td>-1.867047</td>\n",
       "      <td>-1.253974</td>\n",
       "      <td> 0.052305</td>\n",
       "      <td> 2.841675</td>\n",
       "    </tr>\n",
       "  </tbody>\n",
       "</table>\n",
       "<p>5 rows × 1001 columns</p>\n",
       "</div>"
      ],
      "text/plain": [
       "                                      Unnamed: 0     fc8.0     fc8.1  \\\n",
       "0  ../data/tweeted-images/SD/BbKKhVuCQAASGnE.jpg -2.481029 -0.331782   \n",
       "1  ../data/tweeted-images/SD/BSfQmO3CcAAmV_0.jpg -2.816127  0.089159   \n",
       "2  ../data/tweeted-images/SD/BJ7_izNCQAIMGsd.jpg -3.013312 -2.309575   \n",
       "3  ../data/tweeted-images/SD/BO5mWulCAAEXqhT.jpg -1.599354 -3.636029   \n",
       "4  ../data/tweeted-images/SD/BQtTA2ZCcAAnePE.jpg -2.488538  0.257817   \n",
       "\n",
       "      fc8.2     fc8.3     fc8.4     fc8.5     fc8.6     fc8.7     fc8.8  \\\n",
       "0 -0.840526 -2.200729 -1.495519 -2.618583 -1.650708 -0.661125 -2.349694   \n",
       "1 -1.291723 -2.539098 -2.011545 -1.346889 -1.064354 -1.168279 -2.229819   \n",
       "2  0.769330 -3.064893 -0.770937 -1.827654 -2.348266 -2.178051 -3.129571   \n",
       "3 -1.431531 -3.022692 -0.397914 -2.150873  0.440032 -2.232677 -2.475002   \n",
       "4 -0.014473 -1.006937  1.079174 -1.108479 -1.057016  1.335127 -2.203496   \n",
       "\n",
       "     ...      fc8.990   fc8.991   fc8.992   fc8.993   fc8.994   fc8.995  \\\n",
       "0    ...    -0.096101 -2.980190 -2.004297 -3.724048 -3.697331 -2.732956   \n",
       "1    ...     2.600564 -0.104009  1.090380 -2.369291 -1.064187  1.201350   \n",
       "2    ...    -5.411480 -4.289338 -5.004844 -5.351103 -3.757468 -5.302080   \n",
       "3    ...     1.423519 -3.944803 -3.134477 -5.401067 -4.640818 -1.554172   \n",
       "4    ...    -1.134227 -2.199091 -2.101580 -3.392382 -2.690915 -0.668856   \n",
       "\n",
       "    fc8.996   fc8.997   fc8.998   fc8.999  \n",
       "0 -3.661629 -1.822882  0.905608  2.227715  \n",
       "1 -1.293476 -1.699080  1.642681 -3.249635  \n",
       "2 -4.358683 -7.791839 -1.467625  5.378424  \n",
       "3 -4.513334 -2.520462  2.202012 -0.349102  \n",
       "4 -1.867047 -1.253974  0.052305  2.841675  \n",
       "\n",
       "[5 rows x 1001 columns]"
      ]
     },
     "execution_count": 11,
     "metadata": {},
     "output_type": "execute_result"
    }
   ],
   "source": [
    "df.head()"
   ]
  },
  {
   "cell_type": "code",
   "execution_count": 12,
   "metadata": {
    "collapsed": false
   },
   "outputs": [
    {
     "name": "stdout",
     "output_type": "stream",
     "text": [
      "16245\n"
     ]
    }
   ],
   "source": [
    "image_paths = list(df.iloc[:,0])\n",
    "print len(image_paths)"
   ]
  },
  {
   "cell_type": "code",
   "execution_count": 13,
   "metadata": {
    "collapsed": false
   },
   "outputs": [
    {
     "data": {
      "text/plain": [
       "['../data/tweeted-images/SD/BbKKhVuCQAASGnE.jpg',\n",
       " '../data/tweeted-images/SD/BSfQmO3CcAAmV_0.jpg',\n",
       " '../data/tweeted-images/SD/BJ7_izNCQAIMGsd.jpg',\n",
       " '../data/tweeted-images/SD/BO5mWulCAAEXqhT.jpg']"
      ]
     },
     "execution_count": 13,
     "metadata": {},
     "output_type": "execute_result"
    }
   ],
   "source": [
    "image_paths[:4]"
   ]
  },
  {
   "cell_type": "code",
   "execution_count": 14,
   "metadata": {
    "collapsed": false
   },
   "outputs": [
    {
     "name": "stdout",
     "output_type": "stream",
     "text": [
      "(16245, 1000)\n"
     ]
    }
   ],
   "source": [
    "features = np.array(df.iloc[:,1:])\n",
    "print features.shape"
   ]
  },
  {
   "cell_type": "code",
   "execution_count": 15,
   "metadata": {
    "collapsed": true
   },
   "outputs": [],
   "source": [
    "pca = PCA(n_components=2)\n",
    "features_projected = pca.fit_transform(features)"
   ]
  },
  {
   "cell_type": "code",
   "execution_count": 16,
   "metadata": {
    "collapsed": false
   },
   "outputs": [
    {
     "name": "stdout",
     "output_type": "stream",
     "text": [
      "number of images 16245\n"
     ]
    },
    {
     "ename": "IOError",
     "evalue": "[Errno 2] No such file or directory: '../data/tweeted-images/SD/BSDs34kCcAALuv-.jpg'",
     "output_type": "error",
     "traceback": [
      "\u001b[0;31m---------------------------------------------------------------------------\u001b[0m",
      "\u001b[0;31mIOError\u001b[0m                                   Traceback (most recent call last)",
      "\u001b[0;32m<ipython-input-16-a234bc268494>\u001b[0m in \u001b[0;36m<module>\u001b[0;34m()\u001b[0m\n\u001b[1;32m      1\u001b[0m ImageScatterPlot().create_save_fig(image_paths = image_paths, projected_features = features_projected, \n\u001b[0;32m----> 2\u001b[0;31m                                    out_file = \"../figures/SD_fc8_pca.jpg\")\n\u001b[0m",
      "\u001b[0;32m/Users/myazdaniUCSD/Documents/VisualizeImages/scripts/util/ImageScatterPlot.pyc\u001b[0m in \u001b[0;36mcreate_save_fig\u001b[0;34m(self, image_paths, projected_features, out_file)\u001b[0m\n\u001b[1;32m     11\u001b[0m \u001b[0;34m\u001b[0m\u001b[0m\n\u001b[1;32m     12\u001b[0m   \u001b[0;32mdef\u001b[0m \u001b[0mcreate_save_fig\u001b[0m\u001b[0;34m(\u001b[0m\u001b[0mself\u001b[0m\u001b[0;34m,\u001b[0m \u001b[0mimage_paths\u001b[0m\u001b[0;34m,\u001b[0m \u001b[0mprojected_features\u001b[0m\u001b[0;34m,\u001b[0m \u001b[0mout_file\u001b[0m\u001b[0;34m)\u001b[0m\u001b[0;34m:\u001b[0m\u001b[0;34m\u001b[0m\u001b[0m\n\u001b[0;32m---> 13\u001b[0;31m     \u001b[0mimg_scatter\u001b[0m \u001b[0;34m=\u001b[0m \u001b[0mself\u001b[0m\u001b[0;34m.\u001b[0m\u001b[0mcreate_fig\u001b[0m\u001b[0;34m(\u001b[0m\u001b[0mimage_paths\u001b[0m\u001b[0;34m,\u001b[0m \u001b[0mprojected_features\u001b[0m\u001b[0;34m)\u001b[0m\u001b[0;34m\u001b[0m\u001b[0m\n\u001b[0m\u001b[1;32m     14\u001b[0m     \u001b[0mself\u001b[0m\u001b[0;34m.\u001b[0m\u001b[0msave_fig\u001b[0m\u001b[0;34m(\u001b[0m\u001b[0mimg_scatter\u001b[0m\u001b[0;34m,\u001b[0m \u001b[0mout_file\u001b[0m\u001b[0;34m)\u001b[0m\u001b[0;34m\u001b[0m\u001b[0m\n\u001b[1;32m     15\u001b[0m \u001b[0;34m\u001b[0m\u001b[0m\n",
      "\u001b[0;32m/Users/myazdaniUCSD/Documents/VisualizeImages/scripts/util/ImageScatterPlot.pyc\u001b[0m in \u001b[0;36mcreate_fig\u001b[0;34m(self, image_paths, projected_features)\u001b[0m\n\u001b[1;32m     22\u001b[0m     \u001b[0;32mprint\u001b[0m \u001b[0;34m\"number of images\"\u001b[0m\u001b[0;34m,\u001b[0m \u001b[0mlen\u001b[0m\u001b[0;34m(\u001b[0m\u001b[0mimage_paths\u001b[0m\u001b[0;34m)\u001b[0m\u001b[0;34m\u001b[0m\u001b[0m\n\u001b[1;32m     23\u001b[0m     \u001b[0;32mfor\u001b[0m \u001b[0mi\u001b[0m \u001b[0;32min\u001b[0m \u001b[0mrange\u001b[0m\u001b[0;34m(\u001b[0m\u001b[0mlen\u001b[0m\u001b[0;34m(\u001b[0m\u001b[0mimage_paths\u001b[0m\u001b[0;34m)\u001b[0m\u001b[0;34m)\u001b[0m\u001b[0;34m:\u001b[0m\u001b[0;34m\u001b[0m\u001b[0m\n\u001b[0;32m---> 24\u001b[0;31m       \u001b[0mnodeim\u001b[0m \u001b[0;34m=\u001b[0m \u001b[0mImage\u001b[0m\u001b[0;34m.\u001b[0m\u001b[0mopen\u001b[0m\u001b[0;34m(\u001b[0m\u001b[0mimage_paths\u001b[0m\u001b[0;34m[\u001b[0m\u001b[0mi\u001b[0m\u001b[0;34m]\u001b[0m\u001b[0;34m)\u001b[0m\u001b[0;34m\u001b[0m\u001b[0m\n\u001b[0m\u001b[1;32m     25\u001b[0m       \u001b[0mnodeim\u001b[0m \u001b[0;34m=\u001b[0m \u001b[0mnodeim\u001b[0m\u001b[0;34m.\u001b[0m\u001b[0mresize\u001b[0m\u001b[0;34m(\u001b[0m\u001b[0;34m(\u001b[0m\u001b[0mself\u001b[0m\u001b[0;34m.\u001b[0m\u001b[0mresize_w\u001b[0m\u001b[0;34m,\u001b[0m\u001b[0mself\u001b[0m\u001b[0;34m.\u001b[0m\u001b[0mresize_h\u001b[0m\u001b[0;34m)\u001b[0m\u001b[0;34m)\u001b[0m\u001b[0;34m\u001b[0m\u001b[0m\n\u001b[1;32m     26\u001b[0m       \u001b[0mns\u001b[0m \u001b[0;34m=\u001b[0m \u001b[0mnodeim\u001b[0m\u001b[0;34m.\u001b[0m\u001b[0msize\u001b[0m\u001b[0;34m\u001b[0m\u001b[0m\n",
      "\u001b[0;32m/Users/myazdaniUCSD/anaconda/lib/python2.7/site-packages/PIL/Image.pyc\u001b[0m in \u001b[0;36mopen\u001b[0;34m(fp, mode)\u001b[0m\n\u001b[1;32m   2246\u001b[0m     \u001b[0;32mif\u001b[0m \u001b[0misPath\u001b[0m\u001b[0;34m(\u001b[0m\u001b[0mfp\u001b[0m\u001b[0;34m)\u001b[0m\u001b[0;34m:\u001b[0m\u001b[0;34m\u001b[0m\u001b[0m\n\u001b[1;32m   2247\u001b[0m         \u001b[0mfilename\u001b[0m \u001b[0;34m=\u001b[0m \u001b[0mfp\u001b[0m\u001b[0;34m\u001b[0m\u001b[0m\n\u001b[0;32m-> 2248\u001b[0;31m         \u001b[0mfp\u001b[0m \u001b[0;34m=\u001b[0m \u001b[0mbuiltins\u001b[0m\u001b[0;34m.\u001b[0m\u001b[0mopen\u001b[0m\u001b[0;34m(\u001b[0m\u001b[0mfp\u001b[0m\u001b[0;34m,\u001b[0m \u001b[0;34m\"rb\"\u001b[0m\u001b[0;34m)\u001b[0m\u001b[0;34m\u001b[0m\u001b[0m\n\u001b[0m\u001b[1;32m   2249\u001b[0m     \u001b[0;32melse\u001b[0m\u001b[0;34m:\u001b[0m\u001b[0;34m\u001b[0m\u001b[0m\n\u001b[1;32m   2250\u001b[0m         \u001b[0mfilename\u001b[0m \u001b[0;34m=\u001b[0m \u001b[0;34m\"\"\u001b[0m\u001b[0;34m\u001b[0m\u001b[0m\n",
      "\u001b[0;31mIOError\u001b[0m: [Errno 2] No such file or directory: '../data/tweeted-images/SD/BSDs34kCcAALuv-.jpg'"
     ]
    }
   ],
   "source": [
    "ImageScatterPlot().create_save_fig(image_paths = image_paths, projected_features = features_projected, \n",
    "                                   out_file = \"../figures/SD_fc8_pca.jpg\")"
   ]
  },
  {
   "cell_type": "code",
   "execution_count": 9,
   "metadata": {
    "collapsed": false
   },
   "outputs": [
    {
     "ename": "KeyboardInterrupt",
     "evalue": "",
     "output_type": "error",
     "traceback": [
      "\u001b[0;31m---------------------------------------------------------------------------\u001b[0m",
      "\u001b[0;31mKeyboardInterrupt\u001b[0m                         Traceback (most recent call last)",
      "\u001b[0;32m<ipython-input-9-c8773169ce97>\u001b[0m in \u001b[0;36m<module>\u001b[0;34m()\u001b[0m\n\u001b[1;32m      1\u001b[0m \u001b[0mpca\u001b[0m \u001b[0;34m=\u001b[0m \u001b[0mPCA\u001b[0m\u001b[0;34m(\u001b[0m\u001b[0mn_components\u001b[0m\u001b[0;34m=\u001b[0m\u001b[0;36m250\u001b[0m\u001b[0;34m)\u001b[0m\u001b[0;34m\u001b[0m\u001b[0m\n\u001b[1;32m      2\u001b[0m \u001b[0mtsne\u001b[0m \u001b[0;34m=\u001b[0m \u001b[0mTSNE\u001b[0m\u001b[0;34m(\u001b[0m\u001b[0mn_components\u001b[0m\u001b[0;34m=\u001b[0m\u001b[0;36m2\u001b[0m\u001b[0;34m,\u001b[0m \u001b[0mrandom_state\u001b[0m\u001b[0;34m=\u001b[0m\u001b[0;36m0\u001b[0m\u001b[0;34m)\u001b[0m\u001b[0;34m\u001b[0m\u001b[0m\n\u001b[0;32m----> 3\u001b[0;31m \u001b[0mfeatures_projected\u001b[0m \u001b[0;34m=\u001b[0m \u001b[0mtsne\u001b[0m\u001b[0;34m.\u001b[0m\u001b[0mfit_transform\u001b[0m\u001b[0;34m(\u001b[0m\u001b[0mpca\u001b[0m\u001b[0;34m.\u001b[0m\u001b[0mfit_transform\u001b[0m\u001b[0;34m(\u001b[0m\u001b[0mfeatures\u001b[0m\u001b[0;34m)\u001b[0m\u001b[0;34m)\u001b[0m\u001b[0;34m\u001b[0m\u001b[0m\n\u001b[0m\u001b[1;32m      4\u001b[0m ImageScatterPlot().create_save_fig(image_paths = image_paths, projected_features = features_projected, \n\u001b[1;32m      5\u001b[0m                                    out_file = \"../figures/Philly_BVLCref_fc8_tsne.jpg\")\n",
      "\u001b[0;32m/Users/myazdaniUCSD/anaconda/lib/python2.7/site-packages/sklearn/manifold/t_sne.pyc\u001b[0m in \u001b[0;36mfit_transform\u001b[0;34m(self, X, y)\u001b[0m\n\u001b[1;32m    522\u001b[0m             \u001b[0mEmbedding\u001b[0m \u001b[0mof\u001b[0m \u001b[0mthe\u001b[0m \u001b[0mtraining\u001b[0m \u001b[0mdata\u001b[0m \u001b[0;32min\u001b[0m \u001b[0mlow\u001b[0m\u001b[0;34m-\u001b[0m\u001b[0mdimensional\u001b[0m \u001b[0mspace\u001b[0m\u001b[0;34m.\u001b[0m\u001b[0;34m\u001b[0m\u001b[0m\n\u001b[1;32m    523\u001b[0m         \"\"\"\n\u001b[0;32m--> 524\u001b[0;31m         \u001b[0mself\u001b[0m\u001b[0;34m.\u001b[0m\u001b[0mfit\u001b[0m\u001b[0;34m(\u001b[0m\u001b[0mX\u001b[0m\u001b[0;34m)\u001b[0m\u001b[0;34m\u001b[0m\u001b[0m\n\u001b[0m\u001b[1;32m    525\u001b[0m         \u001b[0;32mreturn\u001b[0m \u001b[0mself\u001b[0m\u001b[0;34m.\u001b[0m\u001b[0membedding_\u001b[0m\u001b[0;34m\u001b[0m\u001b[0m\n",
      "\u001b[0;32m/Users/myazdaniUCSD/anaconda/lib/python2.7/site-packages/sklearn/manifold/t_sne.pyc\u001b[0m in \u001b[0;36mfit\u001b[0;34m(self, X, y)\u001b[0m\n\u001b[1;32m    459\u001b[0m \u001b[0;34m\u001b[0m\u001b[0m\n\u001b[1;32m    460\u001b[0m         self.embedding_ = self._tsne(P, alpha, n_samples, random_state,\n\u001b[0;32m--> 461\u001b[0;31m                                      X_embedded=X_embedded)\n\u001b[0m\u001b[1;32m    462\u001b[0m \u001b[0;34m\u001b[0m\u001b[0m\n\u001b[1;32m    463\u001b[0m     \u001b[0;32mdef\u001b[0m \u001b[0m_tsne\u001b[0m\u001b[0;34m(\u001b[0m\u001b[0mself\u001b[0m\u001b[0;34m,\u001b[0m \u001b[0mP\u001b[0m\u001b[0;34m,\u001b[0m \u001b[0malpha\u001b[0m\u001b[0;34m,\u001b[0m \u001b[0mn_samples\u001b[0m\u001b[0;34m,\u001b[0m \u001b[0mrandom_state\u001b[0m\u001b[0;34m,\u001b[0m \u001b[0mX_embedded\u001b[0m\u001b[0;34m=\u001b[0m\u001b[0mNone\u001b[0m\u001b[0;34m)\u001b[0m\u001b[0;34m:\u001b[0m\u001b[0;34m\u001b[0m\u001b[0m\n",
      "\u001b[0;32m/Users/myazdaniUCSD/anaconda/lib/python2.7/site-packages/sklearn/manifold/t_sne.pyc\u001b[0m in \u001b[0;36m_tsne\u001b[0;34m(self, P, alpha, n_samples, random_state, X_embedded)\u001b[0m\n\u001b[1;32m    500\u001b[0m             \u001b[0mmomentum\u001b[0m\u001b[0;34m=\u001b[0m\u001b[0;36m0.8\u001b[0m\u001b[0;34m,\u001b[0m \u001b[0mlearning_rate\u001b[0m\u001b[0;34m=\u001b[0m\u001b[0mself\u001b[0m\u001b[0;34m.\u001b[0m\u001b[0mlearning_rate\u001b[0m\u001b[0;34m,\u001b[0m\u001b[0;34m\u001b[0m\u001b[0m\n\u001b[1;32m    501\u001b[0m             verbose=self.verbose, args=[P, alpha, n_samples,\n\u001b[0;32m--> 502\u001b[0;31m                                         self.n_components])\n\u001b[0m\u001b[1;32m    503\u001b[0m         \u001b[0;32mif\u001b[0m \u001b[0mself\u001b[0m\u001b[0;34m.\u001b[0m\u001b[0mverbose\u001b[0m\u001b[0;34m:\u001b[0m\u001b[0;34m\u001b[0m\u001b[0m\n\u001b[1;32m    504\u001b[0m             \u001b[0;32mprint\u001b[0m\u001b[0;34m(\u001b[0m\u001b[0;34m\"[t-SNE] Error after %d iterations: %f\"\u001b[0m \u001b[0;34m%\u001b[0m \u001b[0;34m(\u001b[0m\u001b[0mit\u001b[0m \u001b[0;34m+\u001b[0m \u001b[0;36m1\u001b[0m\u001b[0;34m,\u001b[0m \u001b[0merror\u001b[0m\u001b[0;34m)\u001b[0m\u001b[0;34m)\u001b[0m\u001b[0;34m\u001b[0m\u001b[0m\n",
      "\u001b[0;32m/Users/myazdaniUCSD/anaconda/lib/python2.7/site-packages/sklearn/manifold/t_sne.pyc\u001b[0m in \u001b[0;36m_gradient_descent\u001b[0;34m(objective, p0, it, n_iter, n_iter_without_progress, momentum, learning_rate, min_gain, min_grad_norm, min_error_diff, verbose, args)\u001b[0m\n\u001b[1;32m    182\u001b[0m \u001b[0;34m\u001b[0m\u001b[0m\n\u001b[1;32m    183\u001b[0m     \u001b[0;32mfor\u001b[0m \u001b[0mi\u001b[0m \u001b[0;32min\u001b[0m \u001b[0mrange\u001b[0m\u001b[0;34m(\u001b[0m\u001b[0mit\u001b[0m\u001b[0;34m,\u001b[0m \u001b[0mn_iter\u001b[0m\u001b[0;34m)\u001b[0m\u001b[0;34m:\u001b[0m\u001b[0;34m\u001b[0m\u001b[0m\n\u001b[0;32m--> 184\u001b[0;31m         \u001b[0mnew_error\u001b[0m\u001b[0;34m,\u001b[0m \u001b[0mgrad\u001b[0m \u001b[0;34m=\u001b[0m \u001b[0mobjective\u001b[0m\u001b[0;34m(\u001b[0m\u001b[0mp\u001b[0m\u001b[0;34m,\u001b[0m \u001b[0;34m*\u001b[0m\u001b[0margs\u001b[0m\u001b[0;34m)\u001b[0m\u001b[0;34m\u001b[0m\u001b[0m\n\u001b[0m\u001b[1;32m    185\u001b[0m         \u001b[0merror_diff\u001b[0m \u001b[0;34m=\u001b[0m \u001b[0mnp\u001b[0m\u001b[0;34m.\u001b[0m\u001b[0mabs\u001b[0m\u001b[0;34m(\u001b[0m\u001b[0mnew_error\u001b[0m \u001b[0;34m-\u001b[0m \u001b[0merror\u001b[0m\u001b[0;34m)\u001b[0m\u001b[0;34m\u001b[0m\u001b[0m\n\u001b[1;32m    186\u001b[0m         \u001b[0merror\u001b[0m \u001b[0;34m=\u001b[0m \u001b[0mnew_error\u001b[0m\u001b[0;34m\u001b[0m\u001b[0m\n",
      "\u001b[0;32m/Users/myazdaniUCSD/anaconda/lib/python2.7/site-packages/sklearn/manifold/t_sne.pyc\u001b[0m in \u001b[0;36m_kl_divergence\u001b[0;34m(params, P, alpha, n_samples, n_components)\u001b[0m\n\u001b[1;32m    102\u001b[0m     \u001b[0;31m# Gradient: dC/dY\u001b[0m\u001b[0;34m\u001b[0m\u001b[0;34m\u001b[0m\u001b[0m\n\u001b[1;32m    103\u001b[0m     \u001b[0mgrad\u001b[0m \u001b[0;34m=\u001b[0m \u001b[0mnp\u001b[0m\u001b[0;34m.\u001b[0m\u001b[0mndarray\u001b[0m\u001b[0;34m(\u001b[0m\u001b[0;34m(\u001b[0m\u001b[0mn_samples\u001b[0m\u001b[0;34m,\u001b[0m \u001b[0mn_components\u001b[0m\u001b[0;34m)\u001b[0m\u001b[0;34m)\u001b[0m\u001b[0;34m\u001b[0m\u001b[0m\n\u001b[0;32m--> 104\u001b[0;31m     \u001b[0mPQd\u001b[0m \u001b[0;34m=\u001b[0m \u001b[0msquareform\u001b[0m\u001b[0;34m(\u001b[0m\u001b[0;34m(\u001b[0m\u001b[0mP\u001b[0m \u001b[0;34m-\u001b[0m \u001b[0mQ\u001b[0m\u001b[0;34m)\u001b[0m \u001b[0;34m*\u001b[0m \u001b[0mn\u001b[0m\u001b[0;34m)\u001b[0m\u001b[0;34m\u001b[0m\u001b[0m\n\u001b[0m\u001b[1;32m    105\u001b[0m     \u001b[0;32mfor\u001b[0m \u001b[0mi\u001b[0m \u001b[0;32min\u001b[0m \u001b[0mrange\u001b[0m\u001b[0;34m(\u001b[0m\u001b[0mn_samples\u001b[0m\u001b[0;34m)\u001b[0m\u001b[0;34m:\u001b[0m\u001b[0;34m\u001b[0m\u001b[0m\n\u001b[1;32m    106\u001b[0m         \u001b[0mnp\u001b[0m\u001b[0;34m.\u001b[0m\u001b[0mdot\u001b[0m\u001b[0;34m(\u001b[0m\u001b[0m_ravel\u001b[0m\u001b[0;34m(\u001b[0m\u001b[0mPQd\u001b[0m\u001b[0;34m[\u001b[0m\u001b[0mi\u001b[0m\u001b[0;34m]\u001b[0m\u001b[0;34m)\u001b[0m\u001b[0;34m,\u001b[0m \u001b[0mX_embedded\u001b[0m\u001b[0;34m[\u001b[0m\u001b[0mi\u001b[0m\u001b[0;34m]\u001b[0m \u001b[0;34m-\u001b[0m \u001b[0mX_embedded\u001b[0m\u001b[0;34m,\u001b[0m \u001b[0mout\u001b[0m\u001b[0;34m=\u001b[0m\u001b[0mgrad\u001b[0m\u001b[0;34m[\u001b[0m\u001b[0mi\u001b[0m\u001b[0;34m]\u001b[0m\u001b[0;34m)\u001b[0m\u001b[0;34m\u001b[0m\u001b[0m\n",
      "\u001b[0;32m/Users/myazdaniUCSD/anaconda/lib/python2.7/site-packages/scipy/spatial/distance.pyc\u001b[0m in \u001b[0;36msquareform\u001b[0;34m(X, force, checks)\u001b[0m\n\u001b[1;32m   1476\u001b[0m \u001b[0;34m\u001b[0m\u001b[0m\n\u001b[1;32m   1477\u001b[0m         \u001b[0;31m# Fill in the values of the distance matrix.\u001b[0m\u001b[0;34m\u001b[0m\u001b[0;34m\u001b[0m\u001b[0m\n\u001b[0;32m-> 1478\u001b[0;31m         \u001b[0m_distance_wrap\u001b[0m\u001b[0;34m.\u001b[0m\u001b[0mto_squareform_from_vector_wrap\u001b[0m\u001b[0;34m(\u001b[0m\u001b[0mM\u001b[0m\u001b[0;34m,\u001b[0m \u001b[0mX\u001b[0m\u001b[0;34m)\u001b[0m\u001b[0;34m\u001b[0m\u001b[0m\n\u001b[0m\u001b[1;32m   1479\u001b[0m \u001b[0;34m\u001b[0m\u001b[0m\n\u001b[1;32m   1480\u001b[0m         \u001b[0;31m# Return the distance matrix.\u001b[0m\u001b[0;34m\u001b[0m\u001b[0;34m\u001b[0m\u001b[0m\n",
      "\u001b[0;31mKeyboardInterrupt\u001b[0m: "
     ]
    }
   ],
   "source": [
    "pca = PCA(n_components=250)\n",
    "tsne = TSNE(n_components=2, random_state=0)\n",
    "features_projected = tsne.fit_transform(pca.fit_transform(features))\n",
    "ImageScatterPlot().create_save_fig(image_paths = image_paths, projected_features = features_projected, \n",
    "                                   out_file = \"../figures/SD_BVLCref_fc8_tsne.jpg\")"
   ]
  },
  {
   "cell_type": "code",
   "execution_count": 9,
   "metadata": {
    "collapsed": true
   },
   "outputs": [],
   "source": [
    "def PCA_vis_feature_file(input_csv):\n",
    "    df = pd.read_csv(input_csv)\n",
    "    image_paths = list(df.iloc[:,0])\n",
    "    features = np.array(df.iloc[:,1:])\n",
    "    print 'working on', input_csv, 'that has shape', features.shape\n",
    "    features_projected = pca.fit_transform(features)\n",
    "    out_file_name = input_csv.split(\"/\")[-1].split(\".csv\")[0] + \"_pca.jpg\"\n",
    "    ImageScatterPlot().create_save_fig(image_paths = image_paths, projected_features = features_projected, \n",
    "                                   out_file = out_file_name)"
   ]
  },
  {
   "cell_type": "code",
   "execution_count": 10,
   "metadata": {
    "collapsed": true
   },
   "outputs": [],
   "source": [
    "src_path, file_type = \"../features/BVLCref_layers/\", \".csv\"\n",
    "csv_paths = []  \n",
    "for root, dirs, files in os.walk(src_path):\n",
    "    csv_paths.extend([os.path.join(root, f) for f in files if f.endswith(file_type)])"
   ]
  },
  {
   "cell_type": "code",
   "execution_count": 11,
   "metadata": {
    "collapsed": false
   },
   "outputs": [
    {
     "data": {
      "text/plain": [
       "['../features/BVLCref_layers/BVLCref_conv1.csv',\n",
       " '../features/BVLCref_layers/BVLCref_conv2.csv',\n",
       " '../features/BVLCref_layers/BVLCref_conv3.csv',\n",
       " '../features/BVLCref_layers/BVLCref_conv4.csv',\n",
       " '../features/BVLCref_layers/BVLCref_conv5.csv',\n",
       " '../features/BVLCref_layers/BVLCref_fc6.csv',\n",
       " '../features/BVLCref_layers/BVLCref_fc7.csv',\n",
       " '../features/BVLCref_layers/BVLCref_fc8.csv',\n",
       " '../features/BVLCref_layers/BVLCref_norm1.csv',\n",
       " '../features/BVLCref_layers/BVLCref_norm2.csv',\n",
       " '../features/BVLCref_layers/BVLCref_pool1.csv',\n",
       " '../features/BVLCref_layers/BVLCref_pool2.csv',\n",
       " '../features/BVLCref_layers/BVLCref_pool5.csv']"
      ]
     },
     "execution_count": 11,
     "metadata": {},
     "output_type": "execute_result"
    }
   ],
   "source": [
    "csv_paths"
   ]
  },
  {
   "cell_type": "code",
   "execution_count": 12,
   "metadata": {
    "collapsed": false
   },
   "outputs": [
    {
     "name": "stdout",
     "output_type": "stream",
     "text": [
      "working on ../features/BVLCref_layers/BVLCref_conv1.csv that has shape (415, 290400)\n",
      "number of images 415\n",
      "working on ../features/BVLCref_layers/BVLCref_conv2.csv that has shape (415, 186624)\n",
      "number of images 415\n",
      "working on ../features/BVLCref_layers/BVLCref_conv3.csv that has shape (415, 64896)\n",
      "number of images 415\n",
      "working on ../features/BVLCref_layers/BVLCref_conv4.csv that has shape (415, 64896)\n",
      "number of images 415\n",
      "working on ../features/BVLCref_layers/BVLCref_conv5.csv that has shape (415, 43264)\n",
      "number of images 415\n",
      "working on ../features/BVLCref_layers/BVLCref_fc6.csv that has shape (415, 4096)\n",
      "number of images 415\n",
      "working on ../features/BVLCref_layers/BVLCref_fc7.csv that has shape (415, 4096)\n",
      "number of images 415\n",
      "working on ../features/BVLCref_layers/BVLCref_fc8.csv that has shape (415, 1000)\n",
      "number of images 415\n",
      "working on ../features/BVLCref_layers/BVLCref_norm1.csv that has shape (415, 69984)\n",
      "number of images 415\n",
      "working on ../features/BVLCref_layers/BVLCref_norm2.csv that has shape (415, 43264)\n",
      "number of images 415\n",
      "working on ../features/BVLCref_layers/BVLCref_pool1.csv that has shape (415, 69984)\n",
      "number of images 415\n",
      "working on ../features/BVLCref_layers/BVLCref_pool2.csv that has shape (415, 43264)\n",
      "number of images 415\n",
      "working on ../features/BVLCref_layers/BVLCref_pool5.csv that has shape (415, 9216)\n",
      "number of images 415\n"
     ]
    }
   ],
   "source": [
    "for csv_path in csv_paths: PCA_vis_feature_file(csv_path)"
   ]
  },
  {
   "cell_type": "markdown",
   "metadata": {
    "collapsed": true
   },
   "source": [
    "## tsne"
   ]
  },
  {
   "cell_type": "code",
   "execution_count": 15,
   "metadata": {
    "collapsed": true
   },
   "outputs": [],
   "source": [
    "pca = PCA(n_components=250)\n",
    "tsne = TSNE(n_components=2, random_state=0)\n",
    "def PCA_vis_feature_file(input_csv):\n",
    "    df = pd.read_csv(input_csv)\n",
    "    image_paths = list(df.iloc[:,0])\n",
    "    features = np.array(df.iloc[:,1:])\n",
    "    print 'working on', input_csv, 'that has shape', features.shape\n",
    "    features_projected = tsne.fit_transform(pca.fit_transform(features))\n",
    "    out_file_name = input_csv.split(\"/\")[-1].split(\".csv\")[0] + \"_tsne.jpg\"\n",
    "    ImageScatterPlot().create_save_fig(image_paths = image_paths, projected_features = features_projected, \n",
    "                                   out_file = out_file_name)"
   ]
  },
  {
   "cell_type": "code",
   "execution_count": 16,
   "metadata": {
    "collapsed": false
   },
   "outputs": [
    {
     "name": "stdout",
     "output_type": "stream",
     "text": [
      "working on ../features/BVLCref_layers/BVLCref_conv1.csv that has shape (415, 290400)\n",
      "number of images 415\n",
      "working on ../features/BVLCref_layers/BVLCref_conv2.csv that has shape (415, 186624)\n",
      "number of images 415\n",
      "working on ../features/BVLCref_layers/BVLCref_conv3.csv that has shape (415, 64896)\n",
      "number of images 415\n",
      "working on ../features/BVLCref_layers/BVLCref_conv4.csv that has shape (415, 64896)\n",
      "number of images 415\n",
      "working on ../features/BVLCref_layers/BVLCref_conv5.csv that has shape (415, 43264)\n",
      "number of images 415\n",
      "working on ../features/BVLCref_layers/BVLCref_fc6.csv that has shape (415, 4096)\n",
      "number of images 415\n",
      "working on ../features/BVLCref_layers/BVLCref_fc7.csv that has shape (415, 4096)\n",
      "number of images 415\n",
      "working on ../features/BVLCref_layers/BVLCref_fc8.csv that has shape (415, 1000)\n",
      "number of images 415\n",
      "working on ../features/BVLCref_layers/BVLCref_norm1.csv that has shape (415, 69984)\n",
      "number of images 415\n",
      "working on ../features/BVLCref_layers/BVLCref_norm2.csv that has shape (415, 43264)\n",
      "number of images 415\n",
      "working on ../features/BVLCref_layers/BVLCref_pool1.csv that has shape (415, 69984)\n",
      "number of images 415\n",
      "working on ../features/BVLCref_layers/BVLCref_pool2.csv that has shape (415, 43264)\n",
      "number of images 415\n",
      "working on ../features/BVLCref_layers/BVLCref_pool5.csv that has shape (415, 9216)\n",
      "number of images 415\n"
     ]
    }
   ],
   "source": [
    "for csv_path in csv_paths: PCA_vis_feature_file(csv_path)"
   ]
  },
  {
   "cell_type": "code",
   "execution_count": null,
   "metadata": {
    "collapsed": true
   },
   "outputs": [],
   "source": []
  }
 ],
 "metadata": {
  "kernelspec": {
   "display_name": "Python 2",
   "language": "python",
   "name": "python2"
  },
  "language_info": {
   "codemirror_mode": {
    "name": "ipython",
    "version": 2
   },
   "file_extension": ".py",
   "mimetype": "text/x-python",
   "name": "python",
   "nbconvert_exporter": "python",
   "pygments_lexer": "ipython2",
   "version": "2.7.10"
  }
 },
 "nbformat": 4,
 "nbformat_minor": 0
}
