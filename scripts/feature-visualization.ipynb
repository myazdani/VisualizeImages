{
 "cells": [
  {
   "cell_type": "code",
   "execution_count": 14,
   "metadata": {
    "collapsed": false
   },
   "outputs": [],
   "source": [
    "from util.ImageScatterPlot import ImageScatterPlot\n",
    "import pandas as pd\n",
    "import numpy as np\n",
    "from sklearn.decomposition import PCA"
   ]
  },
  {
   "cell_type": "code",
   "execution_count": 4,
   "metadata": {
    "collapsed": true
   },
   "outputs": [],
   "source": [
    "df = pd.read_csv(\"../features/BVLCref_layers/BVLCref_fc8.csv\")"
   ]
  },
  {
   "cell_type": "code",
   "execution_count": 5,
   "metadata": {
    "collapsed": false
   },
   "outputs": [
    {
     "data": {
      "text/html": [
       "<div style=\"max-height:1000px;max-width:1500px;overflow:auto;\">\n",
       "<table border=\"1\" class=\"dataframe\">\n",
       "  <thead>\n",
       "    <tr style=\"text-align: right;\">\n",
       "      <th></th>\n",
       "      <th>Unnamed: 0</th>\n",
       "      <th>fc8.0</th>\n",
       "      <th>fc8.1</th>\n",
       "      <th>fc8.2</th>\n",
       "      <th>fc8.3</th>\n",
       "      <th>fc8.4</th>\n",
       "      <th>fc8.5</th>\n",
       "      <th>fc8.6</th>\n",
       "      <th>fc8.7</th>\n",
       "      <th>fc8.8</th>\n",
       "      <th>...</th>\n",
       "      <th>fc8.990</th>\n",
       "      <th>fc8.991</th>\n",
       "      <th>fc8.992</th>\n",
       "      <th>fc8.993</th>\n",
       "      <th>fc8.994</th>\n",
       "      <th>fc8.995</th>\n",
       "      <th>fc8.996</th>\n",
       "      <th>fc8.997</th>\n",
       "      <th>fc8.998</th>\n",
       "      <th>fc8.999</th>\n",
       "    </tr>\n",
       "  </thead>\n",
       "  <tbody>\n",
       "    <tr>\n",
       "      <th>0</th>\n",
       "      <td>    ../data/Rothko_images/AROTHKO_10310192985.jpg</td>\n",
       "      <td>-3.805288</td>\n",
       "      <td>-0.761124</td>\n",
       "      <td>-0.023702</td>\n",
       "      <td>-0.919209</td>\n",
       "      <td>-0.063642</td>\n",
       "      <td> 0.544321</td>\n",
       "      <td>-0.955755</td>\n",
       "      <td>-3.986025</td>\n",
       "      <td>-3.965271</td>\n",
       "      <td>...</td>\n",
       "      <td> 1.479064</td>\n",
       "      <td>-2.415221</td>\n",
       "      <td>-1.929235</td>\n",
       "      <td>-3.015062</td>\n",
       "      <td>-2.980834</td>\n",
       "      <td>-1.311198</td>\n",
       "      <td>-2.405202</td>\n",
       "      <td>-1.679754</td>\n",
       "      <td>-1.566092</td>\n",
       "      <td> 2.735568</td>\n",
       "    </tr>\n",
       "    <tr>\n",
       "      <th>1</th>\n",
       "      <td>    ../data/Rothko_images/AROTHKO_10310800290.jpg</td>\n",
       "      <td>-2.085294</td>\n",
       "      <td> 7.793644</td>\n",
       "      <td>-1.165780</td>\n",
       "      <td>-0.630009</td>\n",
       "      <td>-0.742318</td>\n",
       "      <td>-0.178394</td>\n",
       "      <td>-0.950502</td>\n",
       "      <td>-2.685611</td>\n",
       "      <td>-0.635306</td>\n",
       "      <td>...</td>\n",
       "      <td>-2.488261</td>\n",
       "      <td> 1.567201</td>\n",
       "      <td> 1.292316</td>\n",
       "      <td>-1.824902</td>\n",
       "      <td>-0.248830</td>\n",
       "      <td>-1.195391</td>\n",
       "      <td> 2.722381</td>\n",
       "      <td>-2.064558</td>\n",
       "      <td> 2.524389</td>\n",
       "      <td> 6.639421</td>\n",
       "    </tr>\n",
       "    <tr>\n",
       "      <th>2</th>\n",
       "      <td> ../data/Rothko_images/AMICO_DALLAS_103842196.jpg</td>\n",
       "      <td>-2.220360</td>\n",
       "      <td> 2.204751</td>\n",
       "      <td>-3.474112</td>\n",
       "      <td>-2.867231</td>\n",
       "      <td>-3.790855</td>\n",
       "      <td> 0.475245</td>\n",
       "      <td>-2.226392</td>\n",
       "      <td>-2.907528</td>\n",
       "      <td>-2.669872</td>\n",
       "      <td>...</td>\n",
       "      <td> 3.294321</td>\n",
       "      <td>-0.247078</td>\n",
       "      <td>-1.086575</td>\n",
       "      <td>-0.003492</td>\n",
       "      <td>-0.230768</td>\n",
       "      <td> 0.889488</td>\n",
       "      <td> 0.719667</td>\n",
       "      <td> 0.070013</td>\n",
       "      <td> 1.787303</td>\n",
       "      <td> 1.865200</td>\n",
       "    </tr>\n",
       "    <tr>\n",
       "      <th>3</th>\n",
       "      <td>    ../data/Rothko_images/AROTHKO_10313269612.jpg</td>\n",
       "      <td>-2.311052</td>\n",
       "      <td> 0.698374</td>\n",
       "      <td>-1.019830</td>\n",
       "      <td>-2.154740</td>\n",
       "      <td> 0.134849</td>\n",
       "      <td>-2.556587</td>\n",
       "      <td>-1.707413</td>\n",
       "      <td>-2.584717</td>\n",
       "      <td>-5.733024</td>\n",
       "      <td>...</td>\n",
       "      <td>-4.199751</td>\n",
       "      <td>-0.114115</td>\n",
       "      <td>-0.976569</td>\n",
       "      <td>-3.925595</td>\n",
       "      <td>-1.763975</td>\n",
       "      <td>-1.362928</td>\n",
       "      <td> 0.726215</td>\n",
       "      <td> 2.488721</td>\n",
       "      <td> 5.835283</td>\n",
       "      <td> 2.009402</td>\n",
       "    </tr>\n",
       "    <tr>\n",
       "      <th>4</th>\n",
       "      <td>    ../data/Rothko_images/AROTHKO_10312561458.jpg</td>\n",
       "      <td>-2.181365</td>\n",
       "      <td> 1.577515</td>\n",
       "      <td>-2.397377</td>\n",
       "      <td>-1.784317</td>\n",
       "      <td>-3.032737</td>\n",
       "      <td> 0.014922</td>\n",
       "      <td>-1.632777</td>\n",
       "      <td>-2.584925</td>\n",
       "      <td>-2.180451</td>\n",
       "      <td>...</td>\n",
       "      <td>-0.008083</td>\n",
       "      <td>-0.375961</td>\n",
       "      <td> 0.770526</td>\n",
       "      <td>-2.487267</td>\n",
       "      <td>-0.155179</td>\n",
       "      <td>-1.006359</td>\n",
       "      <td>-0.793978</td>\n",
       "      <td>-1.459443</td>\n",
       "      <td> 1.621819</td>\n",
       "      <td> 4.188722</td>\n",
       "    </tr>\n",
       "  </tbody>\n",
       "</table>\n",
       "<p>5 rows × 1001 columns</p>\n",
       "</div>"
      ],
      "text/plain": [
       "                                         Unnamed: 0     fc8.0     fc8.1  \\\n",
       "0     ../data/Rothko_images/AROTHKO_10310192985.jpg -3.805288 -0.761124   \n",
       "1     ../data/Rothko_images/AROTHKO_10310800290.jpg -2.085294  7.793644   \n",
       "2  ../data/Rothko_images/AMICO_DALLAS_103842196.jpg -2.220360  2.204751   \n",
       "3     ../data/Rothko_images/AROTHKO_10313269612.jpg -2.311052  0.698374   \n",
       "4     ../data/Rothko_images/AROTHKO_10312561458.jpg -2.181365  1.577515   \n",
       "\n",
       "      fc8.2     fc8.3     fc8.4     fc8.5     fc8.6     fc8.7     fc8.8  \\\n",
       "0 -0.023702 -0.919209 -0.063642  0.544321 -0.955755 -3.986025 -3.965271   \n",
       "1 -1.165780 -0.630009 -0.742318 -0.178394 -0.950502 -2.685611 -0.635306   \n",
       "2 -3.474112 -2.867231 -3.790855  0.475245 -2.226392 -2.907528 -2.669872   \n",
       "3 -1.019830 -2.154740  0.134849 -2.556587 -1.707413 -2.584717 -5.733024   \n",
       "4 -2.397377 -1.784317 -3.032737  0.014922 -1.632777 -2.584925 -2.180451   \n",
       "\n",
       "     ...      fc8.990   fc8.991   fc8.992   fc8.993   fc8.994   fc8.995  \\\n",
       "0    ...     1.479064 -2.415221 -1.929235 -3.015062 -2.980834 -1.311198   \n",
       "1    ...    -2.488261  1.567201  1.292316 -1.824902 -0.248830 -1.195391   \n",
       "2    ...     3.294321 -0.247078 -1.086575 -0.003492 -0.230768  0.889488   \n",
       "3    ...    -4.199751 -0.114115 -0.976569 -3.925595 -1.763975 -1.362928   \n",
       "4    ...    -0.008083 -0.375961  0.770526 -2.487267 -0.155179 -1.006359   \n",
       "\n",
       "    fc8.996   fc8.997   fc8.998   fc8.999  \n",
       "0 -2.405202 -1.679754 -1.566092  2.735568  \n",
       "1  2.722381 -2.064558  2.524389  6.639421  \n",
       "2  0.719667  0.070013  1.787303  1.865200  \n",
       "3  0.726215  2.488721  5.835283  2.009402  \n",
       "4 -0.793978 -1.459443  1.621819  4.188722  \n",
       "\n",
       "[5 rows x 1001 columns]"
      ]
     },
     "execution_count": 5,
     "metadata": {},
     "output_type": "execute_result"
    }
   ],
   "source": [
    "df.head()"
   ]
  },
  {
   "cell_type": "code",
   "execution_count": 13,
   "metadata": {
    "collapsed": false
   },
   "outputs": [
    {
     "name": "stdout",
     "output_type": "stream",
     "text": [
      "415\n"
     ]
    }
   ],
   "source": [
    "image_paths = list(df.iloc[:,0])\n",
    "print len(image_paths)"
   ]
  },
  {
   "cell_type": "code",
   "execution_count": 11,
   "metadata": {
    "collapsed": false
   },
   "outputs": [
    {
     "data": {
      "text/plain": [
       "['../data/Rothko_images/AROTHKO_10310192985.jpg',\n",
       " '../data/Rothko_images/AROTHKO_10310800290.jpg',\n",
       " '../data/Rothko_images/AMICO_DALLAS_103842196.jpg',\n",
       " '../data/Rothko_images/AROTHKO_10313269612.jpg']"
      ]
     },
     "execution_count": 11,
     "metadata": {},
     "output_type": "execute_result"
    }
   ],
   "source": [
    "image_paths[:4]"
   ]
  },
  {
   "cell_type": "code",
   "execution_count": 12,
   "metadata": {
    "collapsed": false
   },
   "outputs": [
    {
     "name": "stdout",
     "output_type": "stream",
     "text": [
      "(415, 1000)\n"
     ]
    }
   ],
   "source": [
    "features = np.array(df.iloc[:,1:])\n",
    "print features.shape"
   ]
  },
  {
   "cell_type": "code",
   "execution_count": 15,
   "metadata": {
    "collapsed": true
   },
   "outputs": [],
   "source": [
    "pca = PCA(n_components=2)\n",
    "features_projected = pca.fit_transform(features)"
   ]
  },
  {
   "cell_type": "code",
   "execution_count": 17,
   "metadata": {
    "collapsed": false
   },
   "outputs": [
    {
     "name": "stdout",
     "output_type": "stream",
     "text": [
      "number of images 415\n"
     ]
    }
   ],
   "source": [
    "ImageScatterPlot().create_save_fig(image_paths = image_paths, projected_features = features_projected, \n",
    "                                   out_file = \"../figures/BVLCref_fc8_pca.jpg\")"
   ]
  },
  {
   "cell_type": "code",
   "execution_count": null,
   "metadata": {
    "collapsed": true
   },
   "outputs": [],
   "source": []
  }
 ],
 "metadata": {
  "kernelspec": {
   "display_name": "Python 2",
   "language": "python",
   "name": "python2"
  },
  "language_info": {
   "codemirror_mode": {
    "name": "ipython",
    "version": 2
   },
   "file_extension": ".py",
   "mimetype": "text/x-python",
   "name": "python",
   "nbconvert_exporter": "python",
   "pygments_lexer": "ipython2",
   "version": "2.7.10"
  }
 },
 "nbformat": 4,
 "nbformat_minor": 0
}
