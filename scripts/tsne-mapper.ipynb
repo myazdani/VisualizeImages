{
 "cells": [
  {
   "cell_type": "code",
   "execution_count": 1,
   "metadata": {
    "collapsed": false
   },
   "outputs": [
    {
     "name": "stderr",
     "output_type": "stream",
     "text": [
      "Vendor:  Continuum Analytics, Inc.\n",
      "Package: mkl\n",
      "Message: trial mode expires in 27 days\n",
      "Vendor:  Continuum Analytics, Inc.\n",
      "Package: mkl\n",
      "Message: trial mode expires in 27 days\n"
     ]
    }
   ],
   "source": [
    "from util.ImgMapper import *\n",
    "import pandas as pd\n",
    "from PIL import Image\n",
    "from sklearn.decomposition import PCA\n",
    "from pylab import *\n",
    "from io import BytesIO\n",
    "from scipy.misc import imsave, toimage\n",
    "import base64"
   ]
  },
  {
   "cell_type": "code",
   "execution_count": 2,
   "metadata": {
    "collapsed": false
   },
   "outputs": [
    {
     "data": {
      "text/html": [
       "<div style=\"max-height:1000px;max-width:1500px;overflow:auto;\">\n",
       "<table border=\"1\" class=\"dataframe\">\n",
       "  <thead>\n",
       "    <tr style=\"text-align: right;\">\n",
       "      <th></th>\n",
       "      <th>Unnamed: 0</th>\n",
       "      <th>pool5/7x7_s1.0</th>\n",
       "      <th>pool5/7x7_s1.1</th>\n",
       "      <th>pool5/7x7_s1.2</th>\n",
       "      <th>pool5/7x7_s1.3</th>\n",
       "      <th>pool5/7x7_s1.4</th>\n",
       "      <th>pool5/7x7_s1.5</th>\n",
       "      <th>pool5/7x7_s1.6</th>\n",
       "      <th>pool5/7x7_s1.7</th>\n",
       "      <th>pool5/7x7_s1.8</th>\n",
       "      <th>...</th>\n",
       "      <th>pool5/7x7_s1.1014</th>\n",
       "      <th>pool5/7x7_s1.1015</th>\n",
       "      <th>pool5/7x7_s1.1016</th>\n",
       "      <th>pool5/7x7_s1.1017</th>\n",
       "      <th>pool5/7x7_s1.1018</th>\n",
       "      <th>pool5/7x7_s1.1019</th>\n",
       "      <th>pool5/7x7_s1.1020</th>\n",
       "      <th>pool5/7x7_s1.1021</th>\n",
       "      <th>pool5/7x7_s1.1022</th>\n",
       "      <th>pool5/7x7_s1.1023</th>\n",
       "    </tr>\n",
       "  </thead>\n",
       "  <tbody>\n",
       "    <tr>\n",
       "      <th>0</th>\n",
       "      <td> ../data/CUB/059.California_Gull/California_Gul...</td>\n",
       "      <td> 0.000000</td>\n",
       "      <td> 0.000000</td>\n",
       "      <td> 0</td>\n",
       "      <td> 0.000000</td>\n",
       "      <td> 0.021260</td>\n",
       "      <td> 0.229788</td>\n",
       "      <td> 0.016264</td>\n",
       "      <td> 0.013772</td>\n",
       "      <td> 0.023752</td>\n",
       "      <td>...</td>\n",
       "      <td> 1.703952</td>\n",
       "      <td> 0.000000</td>\n",
       "      <td> 0.081577</td>\n",
       "      <td> 0</td>\n",
       "      <td> 0.000000</td>\n",
       "      <td> 0.000000</td>\n",
       "      <td> 0.747728</td>\n",
       "      <td> 0.000000</td>\n",
       "      <td> 1.758984</td>\n",
       "      <td> 0</td>\n",
       "    </tr>\n",
       "    <tr>\n",
       "      <th>1</th>\n",
       "      <td> ../data/CUB/059.California_Gull/California_Gul...</td>\n",
       "      <td> 0.000000</td>\n",
       "      <td> 0.000000</td>\n",
       "      <td> 0</td>\n",
       "      <td> 0.827677</td>\n",
       "      <td> 0.000000</td>\n",
       "      <td> 0.000000</td>\n",
       "      <td> 0.000000</td>\n",
       "      <td> 0.000000</td>\n",
       "      <td> 1.997174</td>\n",
       "      <td>...</td>\n",
       "      <td> 1.023096</td>\n",
       "      <td> 0.000000</td>\n",
       "      <td> 1.147406</td>\n",
       "      <td> 0</td>\n",
       "      <td> 0.000000</td>\n",
       "      <td> 0.000000</td>\n",
       "      <td> 0.000000</td>\n",
       "      <td> 0.000000</td>\n",
       "      <td> 2.118906</td>\n",
       "      <td> 0</td>\n",
       "    </tr>\n",
       "    <tr>\n",
       "      <th>2</th>\n",
       "      <td> ../data/CUB/059.California_Gull/California_Gul...</td>\n",
       "      <td> 0.103846</td>\n",
       "      <td> 0.000000</td>\n",
       "      <td> 0</td>\n",
       "      <td> 0.009672</td>\n",
       "      <td> 0.075318</td>\n",
       "      <td> 0.005389</td>\n",
       "      <td> 0.052282</td>\n",
       "      <td> 0.230118</td>\n",
       "      <td> 0.764401</td>\n",
       "      <td>...</td>\n",
       "      <td> 3.262793</td>\n",
       "      <td> 0.069585</td>\n",
       "      <td> 0.000000</td>\n",
       "      <td> 0</td>\n",
       "      <td> 0.000000</td>\n",
       "      <td> 0.000000</td>\n",
       "      <td> 0.000000</td>\n",
       "      <td> 0.000000</td>\n",
       "      <td> 0.106682</td>\n",
       "      <td> 0</td>\n",
       "    </tr>\n",
       "    <tr>\n",
       "      <th>3</th>\n",
       "      <td> ../data/CUB/059.California_Gull/California_Gul...</td>\n",
       "      <td> 0.008260</td>\n",
       "      <td> 0.087472</td>\n",
       "      <td> 0</td>\n",
       "      <td> 1.478835</td>\n",
       "      <td> 0.256482</td>\n",
       "      <td> 0.000000</td>\n",
       "      <td> 0.000000</td>\n",
       "      <td> 0.266248</td>\n",
       "      <td> 0.832159</td>\n",
       "      <td>...</td>\n",
       "      <td> 1.839647</td>\n",
       "      <td> 0.024995</td>\n",
       "      <td> 0.196685</td>\n",
       "      <td> 0</td>\n",
       "      <td> 0.000000</td>\n",
       "      <td> 0.000000</td>\n",
       "      <td> 0.103746</td>\n",
       "      <td> 0.000000</td>\n",
       "      <td> 1.796243</td>\n",
       "      <td> 0</td>\n",
       "    </tr>\n",
       "    <tr>\n",
       "      <th>4</th>\n",
       "      <td> ../data/CUB/059.California_Gull/California_Gul...</td>\n",
       "      <td> 0.000000</td>\n",
       "      <td> 0.005279</td>\n",
       "      <td> 0</td>\n",
       "      <td> 1.729524</td>\n",
       "      <td> 0.589268</td>\n",
       "      <td> 0.000000</td>\n",
       "      <td> 0.000000</td>\n",
       "      <td> 0.000000</td>\n",
       "      <td> 0.027871</td>\n",
       "      <td>...</td>\n",
       "      <td> 0.108222</td>\n",
       "      <td> 0.080634</td>\n",
       "      <td> 6.603347</td>\n",
       "      <td> 0</td>\n",
       "      <td> 3.314412</td>\n",
       "      <td> 0.007142</td>\n",
       "      <td> 0.202285</td>\n",
       "      <td> 1.614755</td>\n",
       "      <td> 0.000000</td>\n",
       "      <td> 0</td>\n",
       "    </tr>\n",
       "  </tbody>\n",
       "</table>\n",
       "<p>5 rows × 1025 columns</p>\n",
       "</div>"
      ],
      "text/plain": [
       "                                          Unnamed: 0  pool5/7x7_s1.0  \\\n",
       "0  ../data/CUB/059.California_Gull/California_Gul...        0.000000   \n",
       "1  ../data/CUB/059.California_Gull/California_Gul...        0.000000   \n",
       "2  ../data/CUB/059.California_Gull/California_Gul...        0.103846   \n",
       "3  ../data/CUB/059.California_Gull/California_Gul...        0.008260   \n",
       "4  ../data/CUB/059.California_Gull/California_Gul...        0.000000   \n",
       "\n",
       "   pool5/7x7_s1.1  pool5/7x7_s1.2  pool5/7x7_s1.3  pool5/7x7_s1.4  \\\n",
       "0        0.000000               0        0.000000        0.021260   \n",
       "1        0.000000               0        0.827677        0.000000   \n",
       "2        0.000000               0        0.009672        0.075318   \n",
       "3        0.087472               0        1.478835        0.256482   \n",
       "4        0.005279               0        1.729524        0.589268   \n",
       "\n",
       "   pool5/7x7_s1.5  pool5/7x7_s1.6  pool5/7x7_s1.7  pool5/7x7_s1.8  \\\n",
       "0        0.229788        0.016264        0.013772        0.023752   \n",
       "1        0.000000        0.000000        0.000000        1.997174   \n",
       "2        0.005389        0.052282        0.230118        0.764401   \n",
       "3        0.000000        0.000000        0.266248        0.832159   \n",
       "4        0.000000        0.000000        0.000000        0.027871   \n",
       "\n",
       "         ...          pool5/7x7_s1.1014  pool5/7x7_s1.1015  pool5/7x7_s1.1016  \\\n",
       "0        ...                   1.703952           0.000000           0.081577   \n",
       "1        ...                   1.023096           0.000000           1.147406   \n",
       "2        ...                   3.262793           0.069585           0.000000   \n",
       "3        ...                   1.839647           0.024995           0.196685   \n",
       "4        ...                   0.108222           0.080634           6.603347   \n",
       "\n",
       "   pool5/7x7_s1.1017  pool5/7x7_s1.1018  pool5/7x7_s1.1019  pool5/7x7_s1.1020  \\\n",
       "0                  0           0.000000           0.000000           0.747728   \n",
       "1                  0           0.000000           0.000000           0.000000   \n",
       "2                  0           0.000000           0.000000           0.000000   \n",
       "3                  0           0.000000           0.000000           0.103746   \n",
       "4                  0           3.314412           0.007142           0.202285   \n",
       "\n",
       "   pool5/7x7_s1.1021  pool5/7x7_s1.1022  pool5/7x7_s1.1023  \n",
       "0           0.000000           1.758984                  0  \n",
       "1           0.000000           2.118906                  0  \n",
       "2           0.000000           0.106682                  0  \n",
       "3           0.000000           1.796243                  0  \n",
       "4           1.614755           0.000000                  0  \n",
       "\n",
       "[5 rows x 1025 columns]"
      ]
     },
     "execution_count": 2,
     "metadata": {},
     "output_type": "execute_result"
    }
   ],
   "source": [
    "df = pd.read_csv(\"../features/CUB/GoogLeNet_out.csv\")\n",
    "df.head()"
   ]
  },
  {
   "cell_type": "code",
   "execution_count": 3,
   "metadata": {
    "collapsed": false
   },
   "outputs": [
    {
     "name": "stdout",
     "output_type": "stream",
     "text": [
      "6033\n"
     ]
    }
   ],
   "source": [
    "image_paths = list(df.iloc[:,0])\n",
    "print len(image_paths)"
   ]
  },
  {
   "cell_type": "code",
   "execution_count": 4,
   "metadata": {
    "collapsed": false
   },
   "outputs": [],
   "source": [
    "tooltip_s = []\n",
    "\n",
    "for image_path in image_paths:\n",
    "    output = BytesIO()\n",
    "    #img = toimage(image_data.reshape((28,28))) # Data was a flat row of 64 \"pixels\".\n",
    "    img = Image.open(image_path).resize((100,100))\n",
    "    img.save(output, format=\"PNG\")\n",
    "    contents = \"<img src='data:image/png;base64,\"+base64.encodestring(output.getvalue()).decode()+\"'>\"\n",
    "    tooltip_s.append( contents )\n",
    "    output.close()\n",
    "\n",
    "tooltip_s = np.array(tooltip_s) # need to make sure to feed it as a NumPy array, not a list"
   ]
  },
  {
   "cell_type": "code",
   "execution_count": 5,
   "metadata": {
    "collapsed": false
   },
   "outputs": [
    {
     "data": {
      "text/plain": [
       "(6033, 1024)"
      ]
     },
     "execution_count": 5,
     "metadata": {},
     "output_type": "execute_result"
    }
   ],
   "source": [
    "image_features = array(df.iloc[:,1:])\n",
    "image_features.shape"
   ]
  },
  {
   "cell_type": "code",
   "execution_count": 8,
   "metadata": {
    "collapsed": false
   },
   "outputs": [
    {
     "name": "stdout",
     "output_type": "stream",
     "text": [
      "\n",
      "nr_cubes = 20 \n",
      "\n",
      "overlap_perc = 0.8\n",
      "\n",
      "link_local = False\n",
      "\n",
      "Clusterer = DBSCAN(algorithm='auto', eps=0.2, leaf_size=30, metric='euclidean',\n",
      "    min_samples=5, p=None, random_state=None)\n",
      "\n",
      "Scaler = MinMaxScaler(copy=True, feature_range=(0, 1))\n",
      "\n",
      "\n",
      "\n",
      "..Reducing Dimensionality using: \n",
      "\tTSNE(early_exaggeration=4.0, init='random', learning_rate=1000.0,\n",
      "   metric='euclidean', n_components=2, n_iter=1000, perplexity=30.0,\n",
      "   random_state=None, verbose=1)\n",
      "\n",
      "[t-SNE] Computing pairwise distances...\n",
      "[t-SNE] Computed conditional probabilities for sample 1000 / 6033\n",
      "[t-SNE] Computed conditional probabilities for sample 2000 / 6033\n",
      "[t-SNE] Computed conditional probabilities for sample 3000 / 6033\n",
      "[t-SNE] Computed conditional probabilities for sample 4000 / 6033\n",
      "[t-SNE] Computed conditional probabilities for sample 5000 / 6033\n",
      "[t-SNE] Computed conditional probabilities for sample 6000 / 6033\n",
      "[t-SNE] Computed conditional probabilities for sample 6033 / 6033\n",
      "[t-SNE] Mean sigma: 8.081472\n",
      "[t-SNE] Error after 83 iterations with early exaggeration: 22.605089\n",
      "[t-SNE] Error after 322 iterations: 2.931019\n",
      "\n",
      "..Scaling\n",
      "\n"
     ]
    }
   ],
   "source": [
    "### Reduce dimensions and apply clustering\n",
    "\n",
    "pca = PCA(n_components=50)\n",
    "data = pca.fit_transform(array(image_features))\n",
    "\n",
    "# Initialize to use t-SNE with 2 components (reduces data to 2 dimensions). Also note high overlap_percentage.\n",
    "mapper = KeplerMapper(cluster_algorithm=cluster.DBSCAN(eps=0.2, min_samples=5), \n",
    "             reducer = manifold.TSNE(), nr_cubes=20, overlap_perc=0.8, \n",
    "             link_local=False, verbose=1)\n",
    "\n",
    "# Fit and transform data\n",
    "data = mapper.fit_transform(data)"
   ]
  },
  {
   "cell_type": "code",
   "execution_count": 12,
   "metadata": {
    "collapsed": false
   },
   "outputs": [
    {
     "data": {
      "text/plain": [
       "array([[ 0.86844995,  0.42090868],\n",
       "       [ 0.85864814,  0.42549957],\n",
       "       [ 0.8546097 ,  0.43607355],\n",
       "       [ 0.85326766,  0.44925794]])"
      ]
     },
     "execution_count": 12,
     "metadata": {},
     "output_type": "execute_result"
    }
   ],
   "source": [
    "data[:4,:]"
   ]
  },
  {
   "cell_type": "code",
   "execution_count": 9,
   "metadata": {
    "collapsed": false
   },
   "outputs": [
    {
     "name": "stdout",
     "output_type": "stream",
     "text": [
      "Mapping on data shaped (6033, 2) using dimensions [0, 1]\n",
      "\n",
      "Creating 400 hypercubes.\n",
      "\n",
      "created 2434 edges and 340 nodes in 0:00:07.448989.\n",
      "\n",
      "Wrote d3.js graph to 'results-CUB-4.html'\n"
     ]
    }
   ],
   "source": [
    "# Create the graph\n",
    "complex = mapper.map(data, dimension_index=[0,1], dimension_name=\"t-SNE(2) 2D\")\n",
    "\n",
    "# Create the visualizations (increased the graph_gravity for a tighter graph-look.)\n",
    "\n",
    "# Tooltips with image data for every cluster member\n",
    "mapper.visualize(complex, \"results-CUB-4.html\", \"t-SNE on CUB\", graph_charge=-50, graph_gravity=0.15, custom_tooltips=tooltip_s)\n",
    "  "
   ]
  },
  {
   "cell_type": "code",
   "execution_count": 21,
   "metadata": {
    "collapsed": false
   },
   "outputs": [],
   "source": [
    "node_keys = complex['nodes'].keys()"
   ]
  },
  {
   "cell_type": "code",
   "execution_count": 22,
   "metadata": {
    "collapsed": false
   },
   "outputs": [],
   "source": [
    "links_keys  = complex['links'].keys()"
   ]
  },
  {
   "cell_type": "code",
   "execution_count": 36,
   "metadata": {
    "collapsed": false
   },
   "outputs": [
    {
     "name": "stdout",
     "output_type": "stream",
     "text": [
      "0\n"
     ]
    }
   ],
   "source": [
    "mins = []\n",
    "for k in links_keys:\n",
    "    mins.append(min(complex['nodes'][k]))\n",
    "    \n",
    "print min(mins)"
   ]
  },
  {
   "cell_type": "code",
   "execution_count": 46,
   "metadata": {
    "collapsed": false
   },
   "outputs": [
    {
     "data": {
      "text/plain": [
       "['8_160_0.0_[8 0]_[ 0.4  0. ]',\n",
       " '9_180_0.0_[9 0]_[ 0.45  0.  ]',\n",
       " '9_182_0.0_[9 2]_[ 0.45  0.1 ]',\n",
       " '7_142_0.0_[7 2]_[ 0.35  0.1 ]',\n",
       " '7_141_0.0_[7 1]_[ 0.35  0.05]',\n",
       " '8_162_0.0_[8 2]_[ 0.4  0.1]',\n",
       " '9_181_0.0_[9 1]_[ 0.45  0.05]',\n",
       " '7_140_0.0_[7 0]_[ 0.35  0.  ]']"
      ]
     },
     "execution_count": 46,
     "metadata": {},
     "output_type": "execute_result"
    }
   ],
   "source": [
    "complex['links'][node_keys[1]]"
   ]
  },
  {
   "cell_type": "code",
   "execution_count": 39,
   "metadata": {
    "collapsed": false
   },
   "outputs": [
    {
     "data": {
      "text/plain": [
       "[342,\n",
       " 1500,\n",
       " 1571,\n",
       " 1785,\n",
       " 1793,\n",
       " 1796,\n",
       " 1808,\n",
       " 1810,\n",
       " 1813,\n",
       " 2164,\n",
       " 2185,\n",
       " 3403,\n",
       " 4478,\n",
       " 4497,\n",
       " 4555,\n",
       " 4564,\n",
       " 4568,\n",
       " 4570,\n",
       " 4571,\n",
       " 4575,\n",
       " 4576,\n",
       " 4676,\n",
       " 4709,\n",
       " 4714,\n",
       " 4986,\n",
       " 4991,\n",
       " 5223,\n",
       " 5255,\n",
       " 5522,\n",
       " 5523,\n",
       " 5545,\n",
       " 5548,\n",
       " 5805,\n",
       " 5816]"
      ]
     },
     "execution_count": 39,
     "metadata": {},
     "output_type": "execute_result"
    }
   ],
   "source": [
    "complex['nodes'][node_keys[0]]"
   ]
  },
  {
   "cell_type": "code",
   "execution_count": 50,
   "metadata": {
    "collapsed": false
   },
   "outputs": [],
   "source": [
    "num_edges = 0\n",
    "for k in links_keys:\n",
    "    num_edges += len(complex['links'][k])"
   ]
  },
  {
   "cell_type": "code",
   "execution_count": 51,
   "metadata": {
    "collapsed": false
   },
   "outputs": [
    {
     "data": {
      "text/plain": [
       "2434"
      ]
     },
     "execution_count": 51,
     "metadata": {},
     "output_type": "execute_result"
    }
   ],
   "source": [
    "num_edges"
   ]
  },
  {
   "cell_type": "code",
   "execution_count": 45,
   "metadata": {
    "collapsed": false
   },
   "outputs": [
    {
     "data": {
      "text/plain": [
       "340"
      ]
     },
     "execution_count": 45,
     "metadata": {},
     "output_type": "execute_result"
    }
   ],
   "source": [
    "len(complex['nodes'].keys())"
   ]
  },
  {
   "cell_type": "code",
   "execution_count": null,
   "metadata": {
    "collapsed": true
   },
   "outputs": [],
   "source": []
  }
 ],
 "metadata": {
  "kernelspec": {
   "display_name": "Python 2",
   "language": "python",
   "name": "python2"
  },
  "language_info": {
   "codemirror_mode": {
    "name": "ipython",
    "version": 2
   },
   "file_extension": ".py",
   "mimetype": "text/x-python",
   "name": "python",
   "nbconvert_exporter": "python",
   "pygments_lexer": "ipython2",
   "version": "2.7.10"
  }
 },
 "nbformat": 4,
 "nbformat_minor": 0
}
